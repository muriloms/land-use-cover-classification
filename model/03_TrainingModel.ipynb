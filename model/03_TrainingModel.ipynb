{
 "cells": [
  {
   "cell_type": "markdown",
   "id": "7294d5ed-3e2e-431b-90d2-bcba000ac85a",
   "metadata": {},
   "source": [
    "# 03 - Training Model"
   ]
  },
  {
   "cell_type": "markdown",
   "id": "3024124e-f9e4-4347-a4e6-949d8f6da057",
   "metadata": {},
   "source": [
    "The third notebook is pivotal to the project, encompassing the comprehensive process of model training. It covers several critical steps:\n",
    "\n",
    "- Data Preprocessing and DataLoader: Initial steps involve preprocessing the EuroSAT dataset and setting up PyTorch DataLoaders. This preparation is essential for efficient model training and validation.\n",
    "\n",
    "- Visualization of Data: Before diving into training, the notebook presents the data visually, aiding in understanding the dataset's composition and ensuring that the preprocessing steps have been successfully applied.\n",
    "\n",
    "- Model Initialization: Leveraging the previously defined neural network structure, the model is initialized and prepared for training.\n",
    "\n",
    "- Loss Function and Optimizer: The Cross-Entropy Loss function is selected for evaluating model performance, combined with the Adam optimizer for adjusting model weights based on the loss gradient.\n",
    "\n",
    "- Model Training and Evaluation: The notebook meticulously documents the training process, including monitoring loss reduction over epochs and evaluating the model's accuracy on the test set.\n",
    "\n",
    "- Model Saving: Concluding the training phase, the successfully trained model is saved for future use, facilitating deployment and further evaluations."
   ]
  },
  {
   "cell_type": "code",
   "execution_count": 1,
   "id": "8f30c497-ab02-4d2f-b362-11fc24bad87c",
   "metadata": {},
   "outputs": [],
   "source": [
    "import os\n",
    "os.environ['KMP_DUPLICATE_LIB_OK']='True'\n",
    "\n",
    "import shutil\n",
    "import random\n",
    "import numpy as np\n",
    "import seaborn as sns\n",
    "import matplotlib.pyplot as plt\n",
    "from tqdm import tqdm\n",
    "\n",
    "from numba import cuda\n",
    "import torch\n",
    "import torch.nn as nn\n",
    "import torch.optim as optim\n",
    "import torchvision\n",
    "import torchvision.transforms as transforms\n",
    "\n",
    "from mypackages.landneuralnetwork import LandClassifierNet\n",
    "\n",
    "\n",
    "import warnings\n",
    "warnings.filterwarnings('ignore')"
   ]
  },
  {
   "cell_type": "code",
   "execution_count": 2,
   "id": "dc454bb9-a2ea-42b5-bb32-64fed5fd5357",
   "metadata": {},
   "outputs": [],
   "source": [
    "# Destination folders for training and testing image groups\n",
    "train_images_folder = \"../data/train_imgs\"\n",
    "test_images_folder = \"../data/test_imgs\""
   ]
  },
  {
   "cell_type": "code",
   "execution_count": 3,
   "id": "f470ad51-70a4-4473-98ea-c930dd6617d2",
   "metadata": {},
   "outputs": [
    {
     "name": "stdout",
     "output_type": "stream",
     "text": [
      "Number of GPUs: 1\n",
      "GPU Model: Quadro RTX 3000\n",
      "Total GPU Memory [GB]: 6.442123264\n"
     ]
    }
   ],
   "source": [
    "# Check the GPU model\n",
    "if torch.cuda.is_available():\n",
    "    print('Number of GPUs:', torch.cuda.device_count())\n",
    "    print('GPU Model:', torch.cuda.get_device_name(0))\n",
    "    print('Total GPU Memory [GB]:', torch.cuda.get_device_properties(0).total_memory / 1e9)"
   ]
  },
  {
   "cell_type": "code",
   "execution_count": 4,
   "id": "fb86d5bf-91a9-4da9-9f58-dc297a6d4476",
   "metadata": {},
   "outputs": [],
   "source": [
    "# Reset GPU memory\n",
    "device = cuda.get_current_device()\n",
    "device.reset()"
   ]
  },
  {
   "cell_type": "markdown",
   "id": "39bc86f3-e937-44c2-80fa-e597090416db",
   "metadata": {},
   "source": [
    "# Pre processing and create Dataloaders"
   ]
  },
  {
   "cell_type": "code",
   "execution_count": 5,
   "id": "216dca5e-865c-4323-b2a9-0bd8f310c930",
   "metadata": {},
   "outputs": [],
   "source": [
    "# Data transformations\n",
    "transform = transforms.Compose([\n",
    "    transforms.ToTensor(),   \n",
    "    transforms.Normalize((0.5, 0.5, 0.5), (0.5, 0.5, 0.5))\n",
    "])"
   ]
  },
  {
   "cell_type": "markdown",
   "id": "f7750bb6-a63e-4bcd-8e70-a384bdad2181",
   "metadata": {},
   "source": [
    "**transforms.Compose([...]):** This method is used to chain or compose multiple image transformations together. It takes a list of transformations and applies them in sequence.\n",
    "\n",
    "**transforms.ToTensor():** This transformation converts PIL images or numpy arrays into PyTorch tensors. It also automatically scales the image data to the range [0, 1].\n",
    "\n",
    "**transforms.Normalize(mean, std):** This transformation normalizes a tensor image with a specified mean and standard deviation for each channel (Each color channel (Red, Green, Blue) is normalized)\n",
    "\n",
    "-  The first tuple (0.5, 0.5, 0.5) represents the mean for each channel to be subtracted.\n",
    "-  The second tuple (0.5, 0.5, 0.5) represents the standard deviation for each channel to divide by.\n",
    "- This normalization helps in speeding up the training and reduces the chances of getting stuck in local optima."
   ]
  },
  {
   "cell_type": "code",
   "execution_count": 6,
   "id": "ba75cc20-e40a-483e-9d37-63a3b9c5a805",
   "metadata": {},
   "outputs": [],
   "source": [
    "# Training dataset\n",
    "train_dataset = torchvision.datasets.ImageFolder(root = train_images_folder, transform = transform)\n",
    "\n",
    "# Testing dataset\n",
    "test_dataset = torchvision.datasets.ImageFolder(root = test_images_folder, transform = transform)"
   ]
  },
  {
   "cell_type": "code",
   "execution_count": 7,
   "id": "ce2cd59b-dd50-4094-8443-db5baa98dce4",
   "metadata": {},
   "outputs": [],
   "source": [
    "# Training Dataloader\n",
    "train_dl = torch.utils.data.DataLoader(train_dataset, batch_size = 64, shuffle = True, num_workers = 2)\n",
    "\n",
    "# Testing Dataloader\n",
    "test_dl = torch.utils.data.DataLoader(test_dataset, batch_size = 1, shuffle = True, num_workers = 2)"
   ]
  },
  {
   "cell_type": "markdown",
   "id": "270a1a45-ecad-41ea-a2af-112cc95fb959",
   "metadata": {},
   "source": [
    "A DataLoader in the context of PyTorch is a powerful utility that abstracts away the complexity of fetching batches of data from a dataset, making it easier and more efficient to supply data to a neural network during training or evaluation.\n",
    "\n",
    "**batch_size:** Specifies the number of data points to be included in each batch. Here, it is set to 64, meaning that the DataLoader will yield batches containing 64 samples each time it is iterated over.\n",
    "\n",
    "**shuffle:** Determines whether the data should be shuffled at the beginning of each epoch. Setting this to True ensures that the order of the data is randomized, which is beneficial for training models because it introduces randomness in the input data, helping to improve model generalization and reduce overfitting.\n",
    "\n",
    "**num_workers:** Specifies the number of subprocesses to use for data loading. Here, it is set to 2, indicating that two parallel workers will be used to load data. This can improve the efficiency of data loading, especially when dealing with large datasets or performing computationally intensive preprocessing steps."
   ]
  },
  {
   "cell_type": "markdown",
   "id": "03bd4e7d-ee49-427a-886b-58577add2a1e",
   "metadata": {},
   "source": [
    "# Viewing the images"
   ]
  },
  {
   "cell_type": "code",
   "execution_count": 8,
   "id": "40bd646e-9547-440f-92b8-d0fa81701802",
   "metadata": {},
   "outputs": [],
   "source": [
    "def imshow(img):\n",
    "    \"\"\"\n",
    "    Displays a PyTorch Tensor as an image using matplotlib.\n",
    "\n",
    "    The input tensor is expected to have the PyTorch shape `(C, H, W)` for a single image,\n",
    "    or `(N, C, H, W)` for a batch of images, where:\n",
    "    - `C` is the number of channels (3 for RGB, 1 for grayscale),\n",
    "    - `H` is the height,\n",
    "    - `W` is the width,\n",
    "    - `N` is the batch size.\n",
    "\n",
    "    The function undoes the normalization (assumed to be img = img / 2 + 0.5) and uses\n",
    "    matplotlib to display the image.\n",
    "\n",
    "    Parameters:\n",
    "    - img (torch.Tensor): The image tensor to display.\n",
    "    \"\"\"\n",
    "\n",
    "    # Undo the normalization of the image\n",
    "    img = img / 2 + 0.5\n",
    "    \n",
    "    # Convert the tensor image to a numpy array.\n",
    "    # The `.numpy()` method changes the tensor into a numpy array.\n",
    "    npimg = img.numpy()\n",
    "    \n",
    "    # Display the image.\n",
    "    # `np.transpose(npimg, (1, 2, 0))` changes the shape from `(C, H, W)` to `(H, W, C)`,\n",
    "    # which is the shape expected by `plt.imshow`. This is necessary for correctly displaying\n",
    "    # the image because matplotlib expects the color channel to be the last dimension.\n",
    "    plt.imshow(np.transpose(npimg, (1, 2, 0)))\n",
    "    plt.show()  # Displays the figure.\n"
   ]
  },
  {
   "cell_type": "code",
   "execution_count": 9,
   "id": "e6172dbb-e285-4650-be8e-493a6c3f9309",
   "metadata": {},
   "outputs": [],
   "source": [
    "# Gets a batch of images\n",
    "dataiter = iter(train_dl)\n",
    "images, labels = next(dataiter)"
   ]
  },
  {
   "cell_type": "code",
   "execution_count": 10,
   "id": "7c105a55-c125-4fca-8a28-504989cc3e82",
   "metadata": {},
   "outputs": [],
   "source": [
    "mapping = {0:'AnnualCrop',\n",
    "              1:'Forest',\n",
    "              2:'HerbaceousVegetation',\n",
    "              3:'Highway',\n",
    "              4:'Industrial',\n",
    "              5:'Pasture',\n",
    "              6:'PermanentCrop',\n",
    "              7:'Residential',\n",
    "              8:'River',\n",
    "              9:'SeaLake'}"
   ]
  },
  {
   "cell_type": "code",
   "execution_count": 11,
   "id": "af65a270-57fc-4633-b8db-def8e72f0e2d",
   "metadata": {},
   "outputs": [
    {
     "data": {
      "image/png": "[encoded data removed]",
      "text/plain": [
       "<Figure size 640x480 with 1 Axes>"
      ]
     },
     "metadata": {},
     "output_type": "display_data"
    },
    {
     "name": "stdout",
     "output_type": "stream",
     "text": [
      "Labels: 8: River |  1: Forest |  1: Forest |  3: Highway |  3: Highway |  8: River |  5: Pasture |  2: HerbaceousVegetation | \n"
     ]
    }
   ],
   "source": [
    "# View imagem\n",
    "grid = torchvision.utils.make_grid(images[:8])\n",
    "imshow(grid)\n",
    "\n",
    "# Printing both label numbers and their corresponding names\n",
    "print('Labels:', ' '.join('%d: %s | ' % (labels[j].item(), mapping[labels[j].item()]) for j in range(8)))"
   ]
  },
  {
   "cell_type": "markdown",
   "id": "3bab2db9-53af-40de-8aaf-29ae17d12c06",
   "metadata": {},
   "source": [
    "# Create model"
   ]
  },
  {
   "cell_type": "code",
   "execution_count": 12,
   "id": "9deb4a76-52f8-48c2-90c1-20c669eb0a79",
   "metadata": {},
   "outputs": [],
   "source": [
    "nn_model = LandClassifierNet()"
   ]
  },
  {
   "cell_type": "code",
   "execution_count": 13,
   "id": "1a74e9be-b776-4b62-958d-05e139ee772e",
   "metadata": {},
   "outputs": [
    {
     "name": "stdout",
     "output_type": "stream",
     "text": [
      "LandClassifierNet(\n",
      "  (conv1): Conv2d(3, 64, kernel_size=(3, 3), stride=(1, 1))\n",
      "  (conv2): Conv2d(64, 128, kernel_size=(3, 3), stride=(1, 1))\n",
      "  (conv3): Conv2d(128, 256, kernel_size=(3, 3), stride=(1, 1))\n",
      "  (dropout1): Dropout(p=0.25, inplace=False)\n",
      "  (dropout2): Dropout(p=0.5, inplace=False)\n",
      "  (fc1): Linear(in_features=215296, out_features=2048, bias=True)\n",
      "  (fc2): Linear(in_features=2048, out_features=512, bias=True)\n",
      "  (fc3): Linear(in_features=512, out_features=128, bias=True)\n",
      "  (fc4): Linear(in_features=128, out_features=10, bias=True)\n",
      ")\n"
     ]
    }
   ],
   "source": [
    "print(nn_model)"
   ]
  },
  {
   "cell_type": "code",
   "execution_count": 14,
   "id": "1b0f45b6-6601-42c0-b22e-00e66e0b0cf2",
   "metadata": {},
   "outputs": [
    {
     "name": "stdout",
     "output_type": "stream",
     "text": [
      "cuda:0\n"
     ]
    }
   ],
   "source": [
    "# Define the device\n",
    "device = torch.device(\"cuda:0\" if torch.cuda.is_available() else \"cpu\")\n",
    "print(device)"
   ]
  },
  {
   "cell_type": "code",
   "execution_count": 15,
   "id": "89f8f7c6-9edc-4996-b1a0-124518f355f5",
   "metadata": {},
   "outputs": [
    {
     "data": {
      "text/plain": [
       "LandClassifierNet(\n",
       "  (conv1): Conv2d(3, 64, kernel_size=(3, 3), stride=(1, 1))\n",
       "  (conv2): Conv2d(64, 128, kernel_size=(3, 3), stride=(1, 1))\n",
       "  (conv3): Conv2d(128, 256, kernel_size=(3, 3), stride=(1, 1))\n",
       "  (dropout1): Dropout(p=0.25, inplace=False)\n",
       "  (dropout2): Dropout(p=0.5, inplace=False)\n",
       "  (fc1): Linear(in_features=215296, out_features=2048, bias=True)\n",
       "  (fc2): Linear(in_features=2048, out_features=512, bias=True)\n",
       "  (fc3): Linear(in_features=512, out_features=128, bias=True)\n",
       "  (fc4): Linear(in_features=128, out_features=10, bias=True)\n",
       ")"
      ]
     },
     "execution_count": 15,
     "metadata": {},
     "output_type": "execute_result"
    }
   ],
   "source": [
    "# Send model to device\n",
    "nn_model.to(device)"
   ]
  },
  {
   "cell_type": "code",
   "execution_count": 16,
   "id": "f774c7be-1f3f-4c74-bb94-c48ceeff501a",
   "metadata": {},
   "outputs": [],
   "source": [
    "# Loss function\n",
    "criterion = nn.CrossEntropyLoss()"
   ]
  },
  {
   "cell_type": "markdown",
   "id": "6e2b62c3-d3a7-4367-99a7-b9661c9b208f",
   "metadata": {},
   "source": [
    "**CrossEntropyLoss:** is a class from PyTorch's neural network module (torch.nn) that implements the cross-entropy loss function. Cross-entropy loss is commonly used in classification tasks, especially for multi-class classification problems. It combines nn.LogSoftmax() and nn.NLLLoss() (Negative Log Likelihood Loss) in one single class, making it convenient and efficient for training classification models. This loss function calculates the difference between the predicted probability distribution (output of the model) and the true distribution, where the true distribution is the distribution of the actual labels. This function is essential for training as it provides a measure of how well the model is performing; the lower the loss, the better the model's predictions."
   ]
  },
  {
   "cell_type": "code",
   "execution_count": 17,
   "id": "986f5632-4ba0-47d3-8b20-1fb1a29c6de4",
   "metadata": {},
   "outputs": [],
   "source": [
    "# Optimizer\n",
    "optimizer = optim.Adam(nn_model.parameters())"
   ]
  },
  {
   "cell_type": "markdown",
   "id": "d6357cf5-a9b3-4068-99cf-a1179bba8417",
   "metadata": {},
   "source": [
    "**Adam Optimizer:** is a class from PyTorch's optimization module (torch.optim) that implements the Adam optimization algorithm. Adam (Adaptive Moment Estimation) is a popular optimization algorithm used in training deep learning models. Adam combines the best properties of the AdaGrad and RMSProp algorithms to provide an optimization algorithm that can handle sparse gradients on noisy problems. It's particularly effective in cases where the amount of data or the parameters of the model are large. During training, calling the .step() method on an Adam optimizer instance will update the model's parameters based on the gradients computed during the backward pass of the model.\n",
    "Adam is known for being robust to the choice of hyperparameters, although the learning rate still needs to be set carefully. It's widely used for various kinds of deep learning tasks."
   ]
  },
  {
   "cell_type": "markdown",
   "id": "cb709fb5-00a0-4cf0-bc6d-1db67bc3f222",
   "metadata": {},
   "source": [
    "# Training"
   ]
  },
  {
   "cell_type": "code",
   "execution_count": 18,
   "id": "95b1325c-6d59-4dc8-802b-713935ea0491",
   "metadata": {},
   "outputs": [],
   "source": [
    "# Number of epochs\n",
    "num_epochs = 30\n",
    "\n",
    "# Test iteration\n",
    "testiter = iter(test_dl)"
   ]
  },
  {
   "cell_type": "code",
   "execution_count": 19,
   "id": "3379f165-0420-41c0-966c-7184f41f9263",
   "metadata": {},
   "outputs": [
    {
     "name": "stdout",
     "output_type": "stream",
     "text": [
      "Training Started!\n"
     ]
    },
    {
     "name": "stderr",
     "output_type": "stream",
     "text": [
      "Epoch 0: 100%|███████████████████████████████████████████████████████████████████████| 296/296 [07:23<00:00,  1.50s/it]\n"
     ]
    },
    {
     "name": "stdout",
     "output_type": "stream",
     "text": [
      "Epoch 0, Loss: 1.2579966143176362\n"
     ]
    },
    {
     "name": "stderr",
     "output_type": "stream",
     "text": [
      "Epoch 1: 100%|███████████████████████████████████████████████████████████████████████| 296/296 [07:04<00:00,  1.44s/it]\n"
     ]
    },
    {
     "name": "stdout",
     "output_type": "stream",
     "text": [
      "Epoch 1, Loss: 0.7230578895557571\n"
     ]
    },
    {
     "name": "stderr",
     "output_type": "stream",
     "text": [
      "Epoch 2: 100%|███████████████████████████████████████████████████████████████████████| 296/296 [06:58<00:00,  1.41s/it]\n"
     ]
    },
    {
     "name": "stdout",
     "output_type": "stream",
     "text": [
      "Epoch 2, Loss: 0.5305195250422567\n"
     ]
    },
    {
     "name": "stderr",
     "output_type": "stream",
     "text": [
      "Epoch 3: 100%|███████████████████████████████████████████████████████████████████████| 296/296 [06:57<00:00,  1.41s/it]\n"
     ]
    },
    {
     "name": "stdout",
     "output_type": "stream",
     "text": [
      "Epoch 3, Loss: 0.39538996309243346\n"
     ]
    },
    {
     "name": "stderr",
     "output_type": "stream",
     "text": [
      "Epoch 4: 100%|███████████████████████████████████████████████████████████████████████| 296/296 [06:54<00:00,  1.40s/it]\n"
     ]
    },
    {
     "name": "stdout",
     "output_type": "stream",
     "text": [
      "Epoch 4, Loss: 0.28149495160559546\n"
     ]
    },
    {
     "name": "stderr",
     "output_type": "stream",
     "text": [
      "Epoch 5: 100%|███████████████████████████████████████████████████████████████████████| 296/296 [07:15<00:00,  1.47s/it]\n"
     ]
    },
    {
     "name": "stdout",
     "output_type": "stream",
     "text": [
      "Epoch 5, Loss: 0.16463991287919516\n"
     ]
    },
    {
     "name": "stderr",
     "output_type": "stream",
     "text": [
      "Epoch 6: 100%|███████████████████████████████████████████████████████████████████████| 296/296 [07:22<00:00,  1.50s/it]\n"
     ]
    },
    {
     "name": "stdout",
     "output_type": "stream",
     "text": [
      "Epoch 6, Loss: 0.11757914260709407\n"
     ]
    },
    {
     "name": "stderr",
     "output_type": "stream",
     "text": [
      "Epoch 7: 100%|███████████████████████████████████████████████████████████████████████| 296/296 [07:26<00:00,  1.51s/it]\n"
     ]
    },
    {
     "name": "stdout",
     "output_type": "stream",
     "text": [
      "Epoch 7, Loss: 0.11119188819508496\n"
     ]
    },
    {
     "name": "stderr",
     "output_type": "stream",
     "text": [
      "Epoch 8: 100%|███████████████████████████████████████████████████████████████████████| 296/296 [07:14<00:00,  1.47s/it]\n"
     ]
    },
    {
     "name": "stdout",
     "output_type": "stream",
     "text": [
      "Epoch 8, Loss: 0.09704884681441645\n"
     ]
    },
    {
     "name": "stderr",
     "output_type": "stream",
     "text": [
      "Epoch 9: 100%|███████████████████████████████████████████████████████████████████████| 296/296 [07:08<00:00,  1.45s/it]\n"
     ]
    },
    {
     "name": "stdout",
     "output_type": "stream",
     "text": [
      "Epoch 9, Loss: 0.09011164298548514\n"
     ]
    },
    {
     "name": "stderr",
     "output_type": "stream",
     "text": [
      "Epoch 10: 100%|██████████████████████████████████████████████████████████████████████| 296/296 [07:05<00:00,  1.44s/it]\n"
     ]
    },
    {
     "name": "stdout",
     "output_type": "stream",
     "text": [
      "Epoch 10, Loss: 0.06541000432578684\n"
     ]
    },
    {
     "name": "stderr",
     "output_type": "stream",
     "text": [
      "Epoch 11: 100%|██████████████████████████████████████████████████████████████████████| 296/296 [07:06<00:00,  1.44s/it]\n"
     ]
    },
    {
     "name": "stdout",
     "output_type": "stream",
     "text": [
      "Epoch 11, Loss: 0.08174132129470063\n"
     ]
    },
    {
     "name": "stderr",
     "output_type": "stream",
     "text": [
      "Epoch 12: 100%|██████████████████████████████████████████████████████████████████████| 296/296 [06:57<00:00,  1.41s/it]\n"
     ]
    },
    {
     "name": "stdout",
     "output_type": "stream",
     "text": [
      "Epoch 12, Loss: 0.06722346251213772\n"
     ]
    },
    {
     "name": "stderr",
     "output_type": "stream",
     "text": [
      "Epoch 13: 100%|██████████████████████████████████████████████████████████████████████| 296/296 [07:32<00:00,  1.53s/it]\n"
     ]
    },
    {
     "name": "stdout",
     "output_type": "stream",
     "text": [
      "Epoch 13, Loss: 0.04831355207765277\n"
     ]
    },
    {
     "name": "stderr",
     "output_type": "stream",
     "text": [
      "Epoch 14: 100%|██████████████████████████████████████████████████████████████████████| 296/296 [08:17<00:00,  1.68s/it]\n"
     ]
    },
    {
     "name": "stdout",
     "output_type": "stream",
     "text": [
      "Epoch 14, Loss: 0.047738114366979605\n"
     ]
    },
    {
     "name": "stderr",
     "output_type": "stream",
     "text": [
      "Epoch 15: 100%|██████████████████████████████████████████████████████████████████████| 296/296 [08:13<00:00,  1.67s/it]\n"
     ]
    },
    {
     "name": "stdout",
     "output_type": "stream",
     "text": [
      "Epoch 15, Loss: 0.049899521577400095\n"
     ]
    },
    {
     "name": "stderr",
     "output_type": "stream",
     "text": [
      "Epoch 16: 100%|██████████████████████████████████████████████████████████████████████| 296/296 [08:10<00:00,  1.66s/it]\n"
     ]
    },
    {
     "name": "stdout",
     "output_type": "stream",
     "text": [
      "Epoch 16, Loss: 0.05556863675028089\n"
     ]
    },
    {
     "name": "stderr",
     "output_type": "stream",
     "text": [
      "Epoch 17: 100%|██████████████████████████████████████████████████████████████████████| 296/296 [08:00<00:00,  1.62s/it]\n"
     ]
    },
    {
     "name": "stdout",
     "output_type": "stream",
     "text": [
      "Epoch 17, Loss: 0.05177364894306929\n"
     ]
    },
    {
     "name": "stderr",
     "output_type": "stream",
     "text": [
      "Epoch 18: 100%|██████████████████████████████████████████████████████████████████████| 296/296 [07:34<00:00,  1.53s/it]\n"
     ]
    },
    {
     "name": "stdout",
     "output_type": "stream",
     "text": [
      "Epoch 18, Loss: 0.05738307670791885\n"
     ]
    },
    {
     "name": "stderr",
     "output_type": "stream",
     "text": [
      "Epoch 19: 100%|██████████████████████████████████████████████████████████████████████| 296/296 [07:11<00:00,  1.46s/it]\n"
     ]
    },
    {
     "name": "stdout",
     "output_type": "stream",
     "text": [
      "Epoch 19, Loss: 0.028591035986283788\n"
     ]
    },
    {
     "name": "stderr",
     "output_type": "stream",
     "text": [
      "Epoch 20: 100%|██████████████████████████████████████████████████████████████████████| 296/296 [07:11<00:00,  1.46s/it]\n"
     ]
    },
    {
     "name": "stdout",
     "output_type": "stream",
     "text": [
      "Epoch 20, Loss: 0.052365137432856056\n"
     ]
    },
    {
     "name": "stderr",
     "output_type": "stream",
     "text": [
      "Epoch 21: 100%|██████████████████████████████████████████████████████████████████████| 296/296 [07:14<00:00,  1.47s/it]\n"
     ]
    },
    {
     "name": "stdout",
     "output_type": "stream",
     "text": [
      "Epoch 21, Loss: 0.03486906745476173\n"
     ]
    },
    {
     "name": "stderr",
     "output_type": "stream",
     "text": [
      "Epoch 22: 100%|██████████████████████████████████████████████████████████████████████| 296/296 [07:12<00:00,  1.46s/it]\n"
     ]
    },
    {
     "name": "stdout",
     "output_type": "stream",
     "text": [
      "Epoch 22, Loss: 0.04398340147747296\n"
     ]
    },
    {
     "name": "stderr",
     "output_type": "stream",
     "text": [
      "Epoch 23: 100%|██████████████████████████████████████████████████████████████████████| 296/296 [07:10<00:00,  1.46s/it]\n"
     ]
    },
    {
     "name": "stdout",
     "output_type": "stream",
     "text": [
      "Epoch 23, Loss: 0.03113279780877378\n"
     ]
    },
    {
     "name": "stderr",
     "output_type": "stream",
     "text": [
      "Epoch 24: 100%|██████████████████████████████████████████████████████████████████████| 296/296 [07:13<00:00,  1.47s/it]\n"
     ]
    },
    {
     "name": "stdout",
     "output_type": "stream",
     "text": [
      "Epoch 24, Loss: 0.034542104195483064\n"
     ]
    },
    {
     "name": "stderr",
     "output_type": "stream",
     "text": [
      "Epoch 25: 100%|██████████████████████████████████████████████████████████████████████| 296/296 [07:14<00:00,  1.47s/it]\n"
     ]
    },
    {
     "name": "stdout",
     "output_type": "stream",
     "text": [
      "Epoch 25, Loss: 0.02884197647373996\n"
     ]
    },
    {
     "name": "stderr",
     "output_type": "stream",
     "text": [
      "Epoch 26: 100%|██████████████████████████████████████████████████████████████████████| 296/296 [07:09<00:00,  1.45s/it]\n"
     ]
    },
    {
     "name": "stdout",
     "output_type": "stream",
     "text": [
      "Epoch 26, Loss: 0.06393253129612571\n"
     ]
    },
    {
     "name": "stderr",
     "output_type": "stream",
     "text": [
      "Epoch 27: 100%|██████████████████████████████████████████████████████████████████████| 296/296 [07:12<00:00,  1.46s/it]\n"
     ]
    },
    {
     "name": "stdout",
     "output_type": "stream",
     "text": [
      "Epoch 27, Loss: 0.041927948886164024\n"
     ]
    },
    {
     "name": "stderr",
     "output_type": "stream",
     "text": [
      "Epoch 28: 100%|██████████████████████████████████████████████████████████████████████| 296/296 [07:13<00:00,  1.47s/it]\n"
     ]
    },
    {
     "name": "stdout",
     "output_type": "stream",
     "text": [
      "Epoch 28, Loss: 0.03345404574947925\n"
     ]
    },
    {
     "name": "stderr",
     "output_type": "stream",
     "text": [
      "Epoch 29: 100%|██████████████████████████████████████████████████████████████████████| 296/296 [07:15<00:00,  1.47s/it]"
     ]
    },
    {
     "name": "stdout",
     "output_type": "stream",
     "text": [
      "Epoch 29, Loss: 0.03242310561291112\n",
      "Training Completed!\n",
      "CPU times: total: 3h 5min 3s\n",
      "Wall time: 3h 40min 5s\n"
     ]
    },
    {
     "name": "stderr",
     "output_type": "stream",
     "text": [
      "\n"
     ]
    }
   ],
   "source": [
    "%%time\n",
    "print('Training Started!')\n",
    "\n",
    "# Initializes a list to keep track of the average loss per epoch\n",
    "epoch_losses = []\n",
    "\n",
    "# Iterates over the number of epochs\n",
    "for epoch in range(num_epochs):\n",
    "    # Initializes the variable that accumulates the loss over the epoch\n",
    "    running_loss = 0.0\n",
    "\n",
    "    # Iterates over the training data with a progress bar (tqdm)\n",
    "    for i, (inputs, labels) in enumerate(tqdm(train_dl, desc=f\"Epoch {epoch}\")):\n",
    "        # Moves the inputs and labels to the correct device (CPU or GPU)\n",
    "        inputs, labels = inputs.to(device), labels.to(device)\n",
    "\n",
    "        # Zeroes the gradients of the optimizer\n",
    "        optimizer.zero_grad()\n",
    "\n",
    "        # Performs the forward pass through the neural network\n",
    "        outputs = nn_model(inputs)\n",
    "\n",
    "        # Calculates the loss using the defined criterion\n",
    "        loss = criterion(outputs, labels)\n",
    "\n",
    "        # Performs the backward pass to compute gradients\n",
    "        loss.backward()\n",
    "\n",
    "        # Updates the neural network's weights using the optimizer\n",
    "        optimizer.step()\n",
    "\n",
    "        # Updates the accumulated loss value\n",
    "        running_loss += loss.item()\n",
    "\n",
    "        # Periodically checks the model's performance on a subset of the test data\n",
    "        if i % 100 == 0:  \n",
    "            # Temporarily disables gradient calculations to save memory and computation time\n",
    "            with torch.no_grad():\n",
    "                # Gets a batch of test images and labels\n",
    "                test_images, test_labels = next(testiter)\n",
    "                test_images, test_labels = test_images.to(device), test_labels.to(device)\n",
    "\n",
    "                # Performs a forward pass on the neural network with a subset of test images\n",
    "                test_outputs = nn_model(test_images[:8])\n",
    "\n",
    "                # Gets the predictions for the subset of test images\n",
    "                _, predicted = torch.max(test_outputs, 1)\n",
    "                \n",
    "    # Calculates the average loss for the current epoch and saves it\n",
    "    epoch_loss = running_loss / len(train_dl)\n",
    "    epoch_losses.append(epoch_loss)\n",
    "\n",
    "    # Displays the average loss for the epoch\n",
    "    print(f\"Epoch {epoch}, Loss: {epoch_loss}\")\n",
    "\n",
    "print('Training Completed!')"
   ]
  },
  {
   "cell_type": "code",
   "execution_count": 21,
   "id": "9bd490b8-a635-4ae8-9176-1fd72572019d",
   "metadata": {},
   "outputs": [
    {
     "data": {
      "image/png": "[encoded data removed]",
      "text/plain": [
       "<Figure size 1000x500 with 1 Axes>"
      ]
     },
     "metadata": {},
     "output_type": "display_data"
    }
   ],
   "source": [
    "# Plotting the loss evolution\n",
    "plt.figure(figsize=(10, 5))\n",
    "plt.plot(epoch_losses, label='Training Loss')\n",
    "plt.title('Loss Evolution Over Epochs')\n",
    "plt.xlabel('Epoch')\n",
    "plt.ylabel('Loss')\n",
    "plt.legend()\n",
    "plt.grid()\n",
    "plt.show()\n"
   ]
  },
  {
   "cell_type": "markdown",
   "id": "e25521d2-cc96-4f55-832a-c78d6463af17",
   "metadata": {},
   "source": [
    "# Evaluation the model"
   ]
  },
  {
   "cell_type": "code",
   "execution_count": 22,
   "id": "4e7b80ed-0664-4c9a-8b15-92ecf6b3c05d",
   "metadata": {},
   "outputs": [
    {
     "name": "stderr",
     "output_type": "stream",
     "text": [
      "Evaluating Model: 100%|███████████████████████████████████████████████████████████| 8100/8100 [01:19<00:00, 102.19it/s]"
     ]
    },
    {
     "name": "stdout",
     "output_type": "stream",
     "text": [
      "Accuracy: 82.21%\n"
     ]
    },
    {
     "name": "stderr",
     "output_type": "stream",
     "text": [
      "\n"
     ]
    }
   ],
   "source": [
    "# Puts the model in evaluation mode (this deactivates layers such as dropout and batch normalization)\n",
    "nn_model.eval()\n",
    "\n",
    "total_correct = 0\n",
    "total_samples = 0\n",
    "\n",
    "# Disables gradient calculation to save memory and processing time\n",
    "with torch.no_grad():\n",
    "    # Iterates over the test data with a progress bar (tqdm)\n",
    "    for inputs, labels in tqdm(test_dl, desc=\"Evaluating Model\"):\n",
    "        \n",
    "        # Moves the inputs and labels to the correct device (CPU or GPU)\n",
    "        inputs, labels = inputs.to(device), labels.to(device)\n",
    "\n",
    "        # Performs a forward pass through the model\n",
    "        outputs = nn_model(inputs)\n",
    "\n",
    "        # Gets the predicted class (index of maximum value) for each input in the batch\n",
    "        _, predicted = torch.max(outputs.data, 1)\n",
    "\n",
    "        # Increments the total samples by the number of labels in the current batch\n",
    "        total_samples += labels.size(0)\n",
    "\n",
    "        # Increments the total correct predictions by the number of correct predictions in the current batch\n",
    "        total_correct += (predicted == labels).sum().item()\n",
    "\n",
    "# Calculate and print the accuracy\n",
    "accuracy = (total_correct / total_samples) * 100\n",
    "print(f'Accuracy: {accuracy:.2f}%')"
   ]
  },
  {
   "cell_type": "markdown",
   "id": "b535b19c-28c0-4326-866f-0adc57419d2e",
   "metadata": {},
   "source": [
    "# Saving the model"
   ]
  },
  {
   "cell_type": "code",
   "execution_count": 23,
   "id": "5f1314bf-081b-4b45-a857-9822e410f04c",
   "metadata": {},
   "outputs": [],
   "source": [
    "torch.save(nn_model.state_dict(), 'nn_model.pth')"
   ]
  },
  {
   "cell_type": "code",
   "execution_count": null,
   "id": "a774c278-627f-4261-a45c-16576208b8a4",
   "metadata": {},
   "outputs": [],
   "source": []
  }
 ],
 "metadata": {
  "kernelspec": {
   "display_name": "Python 3 (ipykernel)",
   "language": "python",
   "name": "python3"
  },
  "language_info": {
   "codemirror_mode": {
    "name": "ipython",
    "version": 3
   },
   "file_extension": ".py",
   "mimetype": "text/x-python",
   "name": "python",
   "nbconvert_exporter": "python",
   "pygments_lexer": "ipython3",
   "version": "3.8.19"
  }
 },
 "nbformat": 4,
 "nbformat_minor": 5
}
