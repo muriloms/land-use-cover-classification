{
 "cells": [
  {
   "cell_type": "markdown",
   "id": "38d65f59-30c9-42b6-a759-09a1fe660e41",
   "metadata": {},
   "source": [
    "# 01 - Data manipulation"
   ]
  },
  {
   "cell_type": "markdown",
   "id": "b36a63c2-5fce-49c0-aacb-73e3cbe7ba7e",
   "metadata": {},
   "source": [
    "This notebook is dedicated to the initial stages of the EuroSAT image classification project, focusing on data extraction and organization. The primary tasks accomplished in this notebook include:\n",
    "\n",
    "- Data Extraction: The notebook starts with extracting the EuroSAT dataset, which is composed of satellite images labeled with various types of land cover. The extraction process involves downloading the dataset from its source repository.\n",
    "\n",
    "- Organization of Data: Following extraction, the dataset is meticulously organized into separate folders for training and testing purposes. This organization is crucial for model training and evaluation, ensuring that data is easily accessible and systematically arranged.\n",
    "\n",
    "- Mapping Folder Names to IDs: Each folder, representing a distinct type of land cover, is mapped to a unique identifier (ID). This mapping facilitates the classification task by associating each land cover type with a specific ID, simplifying the training and prediction process.\n",
    "\n",
    "- Database Description and Download Link: The notebook also includes a comprehensive description of the EuroSAT dataset, highlighting its significance and utility in satellite image classification tasks. Additionally, information on where to download the dataset is provided, ensuring that the project is reproducible and accessible to others"
   ]
  },
  {
   "cell_type": "markdown",
   "id": "3ace6011-b038-44d3-9020-c7c3a54b5cf2",
   "metadata": {},
   "source": [
    "## Dataset\n",
    "\n",
    "\"*The EuroSAT dataset is a comprehensive land cover classification dataset that focuses on images taken by the ESA Sentinel-2 satellite. It contains a total of 27,000 images, each with a resolution of 64x64 pixels. These images cover 10 distinct land cover classes and are collected from over 34 European countries. The dataset is available in two versions: RGB only (this repo) and all 13 Multispectral (MS) Sentinel-2 bands. EuroSAT is considered a relatively easy dataset, with approximately 98.6% accuracy achievable using a ResNet-50 architecture.*\"\n",
    "\n",
    "Data: https://huggingface.co/datasets/blanchon/EuroSAT_RGB\n",
    "\n",
    "Paper: https://arxiv.org/abs/1709.00029\n",
    "\n",
    "Homepage: https://github.com/phelber/EuroSAT"
   ]
  },
  {
   "cell_type": "code",
   "execution_count": 1,
   "id": "8f30c497-ab02-4d2f-b362-11fc24bad87c",
   "metadata": {},
   "outputs": [],
   "source": [
    "import os\n",
    "import shutil\n",
    "import random\n",
    "from tqdm import tqdm\n",
    "\n",
    "import torchvision\n",
    "import torchvision.transforms as transforms\n",
    "\n",
    "\n",
    "import warnings\n",
    "warnings.filterwarnings('ignore')"
   ]
  },
  {
   "cell_type": "code",
   "execution_count": 2,
   "id": "b56d3e87-1b3f-4382-8b48-99efb2cfb4e2",
   "metadata": {},
   "outputs": [],
   "source": [
    "# Import directly from the datasets package\n",
    "# from datasets import load_dataset\n",
    "#EuroSAT_RGB = load_dataset(\"blanchon/EuroSAT_RGB\")"
   ]
  },
  {
   "cell_type": "code",
   "execution_count": 3,
   "id": "6f063864-c662-4d82-94b1-75d384c8bc54",
   "metadata": {},
   "outputs": [],
   "source": [
    "# Unzip file - Linux\n",
    "#!unzip EuroSAT_RGB.zip"
   ]
  },
  {
   "cell_type": "code",
   "execution_count": 4,
   "id": "748e02cd-8f4c-4481-a963-5610477d4d08",
   "metadata": {},
   "outputs": [],
   "source": [
    "# Name of the folder with the original images\n",
    "original_images_folder = '../data/EuroSAT_RGB'\n",
    "\n",
    "# Destination folders for training and testing image groups\n",
    "train_images_folder = \"../data/train_imgs\"\n",
    "test_images_folder = \"../data/test_imgs\""
   ]
  },
  {
   "cell_type": "code",
   "execution_count": 6,
   "id": "a52bfde9-a624-41cf-8100-a4011fe623ab",
   "metadata": {},
   "outputs": [],
   "source": [
    "# Create a new directory for training and testing images (if it doesn't already exist)\n",
    "os.makedirs(train_images_folder, exist_ok = True)\n",
    "os.makedirs(test_images_folder, exist_ok = True)"
   ]
  },
  {
   "cell_type": "markdown",
   "id": "1dc6b6e8",
   "metadata": {},
   "source": [
    "# Build training and testing data"
   ]
  },
  {
   "cell_type": "code",
   "execution_count": 8,
   "id": "f056d772-e804-4848-9ec7-55d3d6d48ff1",
   "metadata": {},
   "outputs": [],
   "source": [
    "# Auxiliary variables\n",
    "image_class = 0\n",
    "class_dict = {}\n",
    "\n",
    "# Variable to manipulate images\n",
    "names_land_type = os.listdir(original_images_folder)\n",
    "names_land_type.sort()\n",
    "\n",
    "# Set train size\n",
    "train_sample_size = 0.7"
   ]
  },
  {
   "cell_type": "code",
   "execution_count": 9,
   "id": "5dff89e7-6a4f-4ad0-81f6-16e0ff38cdab",
   "metadata": {},
   "outputs": [
    {
     "data": {
      "text/plain": [
       "['.DS_Store',\n",
       " 'AnnualCrop',\n",
       " 'Forest',\n",
       " 'HerbaceousVegetation',\n",
       " 'Highway',\n",
       " 'Industrial',\n",
       " 'Pasture',\n",
       " 'PermanentCrop',\n",
       " 'Residential',\n",
       " 'River',\n",
       " 'SeaLake']"
      ]
     },
     "execution_count": 9,
     "metadata": {},
     "output_type": "execute_result"
    }
   ],
   "source": [
    "# Views names\n",
    "names_land_type"
   ]
  },
  {
   "cell_type": "code",
   "execution_count": 10,
   "id": "dc454bb9-a2ea-42b5-bb32-64fed5fd5357",
   "metadata": {},
   "outputs": [
    {
     "name": "stderr",
     "output_type": "stream",
     "text": [
      "Processing: 100%|█████████████████████████████████████████████████████████████████████████████| 11/11 [03:30<00:00, 19.18s/it]\n"
     ]
    }
   ],
   "source": [
    "# Iterate over all files in the \"names_land_type\" list\n",
    "for path_file in tqdm(names_land_type, desc = \"Processing\"):\n",
    "    #Check if the file name doesn't start with a dot\n",
    "    if not path_file.startswith('.'):\n",
    "        # Construct the source directory path\n",
    "        source_dir_path = os.path.join(original_images_folder, path_file)\n",
    "\n",
    "        # List all images in the specified directory\n",
    "        images = os.listdir(source_dir_path)\n",
    "\n",
    "        # Calculate the sample size for the training set\n",
    "        sample_size = int(len(images) * train_sample_size)\n",
    "\n",
    "        # Randomly sample images for training\n",
    "        train_images = random.sample(images, sample_size)\n",
    "\n",
    "        # The rest are test images\n",
    "        test_images = [img for img in images if img not in train_images]\n",
    "\n",
    "        # Construct the final destination path for training images\n",
    "        final_train_dest = os.path.join(train_images_folder, str(image_class))\n",
    "\n",
    "        # Create a bew directory for training images (if it doesn't already exist)\n",
    "        os.makedirs(final_train_dest, exist_ok = True)\n",
    "\n",
    "        # Copy selected training images to the final destination\n",
    "        for file_name in train_images:\n",
    "            shutil.copy2(os.path.join(source_dir_path, file_name), final_train_dest)\n",
    "\n",
    "        # Construct the final destination path for test images\n",
    "        final_test_dest = os.path.join(test_images_folder, str(image_class))\n",
    "\n",
    "        # Create a new directory for test images (if it doesn't already exist)\n",
    "        os.makedirs(final_test_dest, exist_ok = True)\n",
    "\n",
    "        # Copy all test images to the final destination\n",
    "        for test_image in test_images:\n",
    "            shutil.copy2(os.path.join(source_dir_path, test_image), final_test_dest)\n",
    "\n",
    "        # Associate the image class with its respective file path\n",
    "        class_dict[image_class] = path_file\n",
    "\n",
    "        # Increment the image class identifier\n",
    "        image_class += 1"
   ]
  },
  {
   "cell_type": "code",
   "execution_count": null,
   "id": "fff27f66-d3c5-4b29-8dbd-4080e1dc8977",
   "metadata": {},
   "outputs": [],
   "source": []
  }
 ],
 "metadata": {
  "kernelspec": {
   "display_name": "Python 3 (ipykernel)",
   "language": "python",
   "name": "python3"
  },
  "language_info": {
   "codemirror_mode": {
    "name": "ipython",
    "version": 3
   },
   "file_extension": ".py",
   "mimetype": "text/x-python",
   "name": "python",
   "nbconvert_exporter": "python",
   "pygments_lexer": "ipython3",
   "version": "3.11.5"
  }
 },
 "nbformat": 4,
 "nbformat_minor": 5
}
